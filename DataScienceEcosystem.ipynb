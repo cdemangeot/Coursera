{
  "metadata": {
    "language_info": {
      "codemirror_mode": {
        "name": "python",
        "version": 3
      },
      "file_extension": ".py",
      "mimetype": "text/x-python",
      "name": "python",
      "nbconvert_exporter": "python",
      "pygments_lexer": "ipython3",
      "version": "3.8"
    },
    "kernelspec": {
      "name": "python",
      "display_name": "Python (Pyodide)",
      "language": "python"
    }
  },
  "nbformat_minor": 4,
  "nbformat": 4,
  "cells": [
    {
      "cell_type": "markdown",
      "source": "# Execute it as a markdown cell\n# H1: This is a level 1 Heading\n## H2: This is a level 2 Heading\n### H3: This is a level 3 Heading\n#### H4: This is a level 4 Heading\n##### H5: This is a level 5 Heading\n###### H6: This is a level 6 Heading\n\n**Bold text usisng asterisks.**",
      "metadata": {
        "tags": [],
        "jupyter": {
          "source_hidden": true
        }
      }
    },
    {
      "cell_type": "markdown",
      "source": "# Data Science Tools and Ecosystems",
      "metadata": {
        "tags": []
      }
    },
    {
      "cell_type": "markdown",
      "source": "In this Notebook, Data Science tools and Ecosystems are summarised. ",
      "metadata": {
        "tags": []
      }
    },
    {
      "cell_type": "markdown",
      "source": "**Objectives**\n- List of popular languagues\n- Common used libraries \n- Data Science tools\n- Arithmetic\n\n## Author\nClaire Demangeot",
      "metadata": {}
    },
    {
      "cell_type": "markdown",
      "source": "Some of the popular languages that Data Scientists use are: \n1. Python\n2. R\n3. SQL",
      "metadata": {
        "tags": []
      }
    },
    {
      "cell_type": "markdown",
      "source": "Some of the commonly used libraries by Data Scientist include:\n1. Pandas\n2. Numpy\n3. Matplotlib",
      "metadata": {
        "tags": []
      }
    },
    {
      "cell_type": "markdown",
      "source": "Data Science tools\n| Data Science tools|\n|------------------|\n|Jupyter Notebooks|\n|VSCode|\n|RStudio|",
      "metadata": {
        "tags": []
      }
    },
    {
      "cell_type": "markdown",
      "source": "### Below are few exemples of evaluating arithmetic expressions in Pyhton \n",
      "metadata": {
        "tags": []
      }
    },
    {
      "cell_type": "code",
      "source": "# This is a simple arithmetic expression to multiply then add integers\n(3*4)+5",
      "metadata": {
        "tags": [],
        "trusted": true
      },
      "execution_count": 13,
      "outputs": [
        {
          "execution_count": 13,
          "output_type": "execute_result",
          "data": {
            "text/plain": "17"
          },
          "metadata": {}
        }
      ]
    },
    {
      "cell_type": "code",
      "source": "#This will convert 200 minutes to hours by diving by 60\n200/60",
      "metadata": {
        "tags": [],
        "trusted": true
      },
      "execution_count": 15,
      "outputs": [
        {
          "execution_count": 15,
          "output_type": "execute_result",
          "data": {
            "text/plain": "3.3333333333333335"
          },
          "metadata": {}
        }
      ]
    }
  ]
}